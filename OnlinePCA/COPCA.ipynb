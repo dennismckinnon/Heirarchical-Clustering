{
 "cells": [
  {
   "cell_type": "markdown",
   "metadata": {},
   "source": [
    "# Convolutional Online PCA\n",
    "\n",
    "This is a development +  experiment notebook for using the results obtained in the PCA notebook and constructing useable modules out of them. The actual lib for using these is the COPCA.py file "
   ]
  },
  {
   "cell_type": "code",
   "execution_count": 3,
   "metadata": {},
   "outputs": [
    {
     "name": "stdout",
     "output_type": "stream",
     "text": [
      "cuda:3\n",
      "/home/tbjackso/Online PCA\n",
      "1.2.0\n"
     ]
    }
   ],
   "source": [
    "import torch\n",
    "import torch.optim as optim\n",
    "import torch.nn as nn\n",
    "import torch.nn.functional as F\n",
    "from torch.distributions import Normal, MultivariateNormal, Categorical\n",
    "from torch.utils.data import Dataset, DataLoader\n",
    "import torchvision\n",
    "from torchvision import datasets, transforms\n",
    "from torch.nn.utils.clip_grad import clip_grad_value_, clip_grad_norm_\n",
    "\n",
    "import string\n",
    "from random import *\n",
    "import re\n",
    "import math\n",
    "import time\n",
    "\n",
    "import subprocess, os, glob\n",
    "import time\n",
    "\n",
    "import matplotlib\n",
    "import matplotlib.pyplot as plt\n",
    "import numpy as np\n",
    "from dennytools.silence import *\n",
    "\n",
    "device = 'cuda:3'\n",
    "print (device)\n",
    "\n",
    "print (os.getcwd())\n",
    "\n",
    "print(torch.__version__)"
   ]
  },
  {
   "cell_type": "code",
   "execution_count": 65,
   "metadata": {},
   "outputs": [],
   "source": [
    "\n",
    "class Convolutor(nn.Module):\n",
    "    def __init__(self, in_size, out_channels, kernel_size, stride=1):\n",
    "        super(Convolutor, self).__init__()\n",
    "        \n",
    "        (k0, k1) = kernel_size\n",
    "        (c,h,w) = in_size\n",
    "        \n",
    "        # D1 = product of kernel dims and input channels\n",
    "        D = c * k0 * k1\n",
    "        hp = (h-k0)//stride+1\n",
    "        wp = (w-k1)//stride+1\n",
    "        L = hp*wp\n",
    "        \n",
    "        self.L = L\n",
    "        self.D = D\n",
    "        self.C = c\n",
    "        self.K = kernel_size\n",
    "        self.G = out_channels\n",
    "        \n",
    "        self.unfold = nn.Unfold(kernel_size, stride=stride)\n",
    "        self.fold_forward  = nn.Fold((hp,wp), (1,1), stride=1)\n",
    "        self.Process = None\n",
    "        \n",
    "    def forward(self, x):\n",
    "        (bs,c,h,w) = x.shape\n",
    "        x1 = self.unfold(x).transpose(1,2).contiguous().view(-1, self.D)\n",
    "        yuf = self.Process(x1)\n",
    "        y = self.fold_forward(yuf.view(bs,self.L,self.G).transpose(1,2))\n",
    "        return y\n",
    "    \n",
    "    def learn(self, x):\n",
    "        x1 = self.unfold(x).view(-1, self.D)\n",
    "        self.Process.learn(x1)\n",
    "    \n",
    "    def params(self):\n",
    "        return self.Process.params()\n",
    "    \n",
    "    \n",
    "    \n",
    "\n",
    "def RandomSON(n):\n",
    "    M = np.random.randn(n,n)\n",
    "    Q,R = np.linalg.qr(M)\n",
    "    return Q\n",
    "    \n",
    "\n",
    "class OPCA(nn.Module):\n",
    "    def __init__(self, inputs, outputs, eta=1e-3, gamma=0):\n",
    "        super().__init__()\n",
    "        \n",
    "        if (inputs < outputs):\n",
    "            raise ValueError(\"Inputs must be >= outputs. Got {} < {}\".format(inputs, outputs))\n",
    "        \n",
    "        self.dummy = nn.Parameter(torch.zeros(1))\n",
    "        \n",
    "        # OPCA\n",
    "        self.register_buffer('T', torch.tensor(RandomSON(inputs)[:,:outputs]).float())\n",
    "        self.register_buffer('N', torch.diag(torch.arange(outputs,0,-1).float()))\n",
    "        self.register_buffer('eta', torch.tensor(eta))\n",
    "        \n",
    "        # Centering\n",
    "        self.register_buffer('mu', torch.zeros(inputs))\n",
    "        self.register_buffer('gamma', torch.tensor(gamma))\n",
    "        \n",
    "    def forward(self, xin):\n",
    "        \n",
    "        # Centering\n",
    "        x = xin-self.mu\n",
    "        xt = torch.einsum('bi,ij->bj', [x, self.T])\n",
    " \n",
    "        if (self.training):\n",
    "            self.learn(xin)\n",
    "        \n",
    "        return xt\n",
    "    \n",
    "    def learn(self, xin):\n",
    "        \n",
    "        # Centering\n",
    "        x = xin-self.mu\n",
    "        \n",
    "        # EMA\n",
    "        self.mu *= (1-self.gamma)\n",
    "        self.mu += self.gamma*(x.mean(0))\n",
    "        \n",
    "        # Batched OPCA\n",
    "        xt = torch.einsum('bi,ij->bj', [x, self.T])\n",
    "        X = torch.einsum('bk,bl->bkl',[xt, xt]).mean(0)\n",
    "        C = torch.einsum('ik,kl->il', [self.N, X])\n",
    "        Tgrad = -self.T@(C-C.transpose(0,1))\n",
    "        \n",
    "        self.T += self.eta*Tgrad\n",
    "    \n",
    "    def params(self):\n",
    "        return self.T\n",
    "    \n",
    "class COPCA(Convolutor):\n",
    "    def __init__(self, in_size, out_channels, kernel_size, stride=1, eta=1e-3, gamma=0):\n",
    "        super().__init__(in_size, out_channels, kernel_size, stride)\n",
    "        \n",
    "        self.Process = OPCA(self.D, out_channels, eta, gamma)\n",
    "        \n"
   ]
  },
  {
   "cell_type": "code",
   "execution_count": null,
   "metadata": {},
   "outputs": [],
   "source": []
  },
  {
   "cell_type": "code",
   "execution_count": 66,
   "metadata": {},
   "outputs": [],
   "source": [
    "BS = 100\n",
    "\n",
    "# Training dataset\n",
    "train_loader = torch.utils.data.DataLoader(\n",
    "    datasets.MNIST(root='./MNIST', train=True, download=True,\n",
    "                   transform=transforms.Compose([\n",
    "                       transforms.ToTensor()\n",
    "                   ])), batch_size=BS, shuffle=True, pin_memory=False)\n",
    "\n",
    "# Test dataset\n",
    "test_loader = torch.utils.data.DataLoader(\n",
    "    datasets.MNIST(root='./MNIST', train=False, transform=transforms.Compose([\n",
    "        transforms.ToTensor()\n",
    "    ])), batch_size=BS, shuffle=True, pin_memory=False)\n",
    "\n",
    "# Training dataset\n",
    "big_batch = torch.utils.data.DataLoader(\n",
    "    datasets.MNIST(root='./MNIST', train=True, download=True,\n",
    "                   transform=transforms.Compose([\n",
    "                       transforms.ToTensor()\n",
    "                   ])), batch_size=500, shuffle=True, pin_memory=False)"
   ]
  },
  {
   "cell_type": "code",
   "execution_count": 70,
   "metadata": {},
   "outputs": [],
   "source": [
    "def makeNet(device, Gs=[15,20,25,30,30], eta=1e-3, gamma=0):\n",
    "\n",
    "    L0 = COPCA((1,28,28), Gs[0], (3,3), eta=eta, gamma=gamma).eval()\n",
    "    L0.to(device)\n",
    "\n",
    "    L1 = COPCA((Gs[0],26,26), Gs[1], (3,3), stride=2, eta=eta, gamma=gamma).eval()\n",
    "    L1.to(device)\n",
    "\n",
    "    L2 = COPCA((Gs[1],12,12), Gs[2], (3,3), stride=2, eta=eta, gamma=gamma).eval()\n",
    "    L2.to(device)\n",
    "\n",
    "    L3 = COPCA((Gs[2],5,5), Gs[3], (3,3), eta=eta, gamma=gamma).eval()\n",
    "    L3.to(device)\n",
    "    \n",
    "    L4 = COPCA((Gs[3],3,3), Gs[4], (3,3), eta=eta, gamma=gamma).eval()\n",
    "    L4.to(device)\n",
    "\n",
    "    Ls = [L0, L1, L2, L3, L4]\n",
    "    return Ls\n",
    "\n",
    "    \n",
    "def doEpoch(Ls, data_loader, learn):\n",
    "    device = next(Ls[0].parameters()).device\n",
    "    for (data, label) in data_loader:\n",
    "        p = data.to(device)\n",
    "        for i,L in enumerate(Ls):\n",
    "            # Calculate Forward\n",
    "            x = L(p)\n",
    "            # Learn\n",
    "            if (learn is True or learn == i):\n",
    "                L.learn(p)\n",
    "                \n",
    "            p = x\n",
    "\n",
    "            \n",
    "\n",
    "def train(Ls, data_loader, rounds, epochs, layer_learn=False, hardness=False, verbose=False):\n",
    "\n",
    "    device = next(Ls[0].parameters()).device\n",
    "\n",
    "    epochs = epochs*len(Ls) if (layer_learn) else epochs\n",
    "    hard = np.zeros((rounds*epochs+1, len(Ls)))\n",
    "    \n",
    "    print (\"Gathering Initial Statistics...\")\n",
    "    if (hardness):\n",
    "        for i in range(len(Ls)):\n",
    "            hard[0, i] = MeasureHardness(Ls[:i+1], Ns, 30, data_loader, epochs=5, lr=5e-3, verbose=verbose)\n",
    "\n",
    "    try:\n",
    "        for r in range(rounds):\n",
    "            s = time.time()\n",
    "            print (\"Round: {}/{}\".format(r+1,rounds))\n",
    "\n",
    "            for e in range(epochs):\n",
    "                    \n",
    "                if (layer_learn):\n",
    "                    doEpoch(Ls, data_loader, e//len(Ls))\n",
    "                else:\n",
    "                    doEpoch(Ls, data_loader, True)\n",
    "\n",
    "                # Measure hardness of each layer\n",
    "                if (hardness):\n",
    "                    lhards = []\n",
    "                    for i in range(len(Ls)):\n",
    "                         lhards.append(MeasureHardness(Ls[:i+1], 30, data_loader, epochs=5, lr=5e-3, verbose=verbose))\n",
    "                    hard[epochs*r+e+1, i] = lhards\n",
    "                    pstr = \"Epoch {} : \"+\", \".join([\"{:.2f}\"]*len(Ls))\n",
    "                    print (pstr.format(*([e]+lhards)))\n",
    "                else:\n",
    "                    print (\"Epoch: {}\".format(e))\n",
    "            e = time.time()\n",
    "            print (\"Round {} runtime: {}\\n\".format(r,e-s))\n",
    "            \n",
    "    except KeyboardInterrupt:\n",
    "        hard = hard[:(r*epochs)+e]\n",
    "    \n",
    "    if (hardness):\n",
    "        return hard\n",
    "\n",
    "\n",
    "\n",
    "            \n",
    "# TODO \n",
    "# Define proper class for this deep conv net?\n",
    "# Write function that trains one or two layer neural network against the outpits of\n",
    "# the predictive learned behaviour and measures how quickly learning takes place\n",
    "class FCNet(nn.Module):\n",
    "    def __init__(self, inputs, hidden, classes):\n",
    "        super(FCNet, self).__init__()\n",
    "#         self.L1 = nn.Linear(inputs, hidden)\n",
    "#         self.L2 = nn.Linear(hidden, classes)\n",
    "        self.L  = nn.Linear(inputs, classes)\n",
    "        self.inputs = inputs\n",
    "        \n",
    "    def forward(self, x):\n",
    "        x1 = x.view(-1, self.inputs)\n",
    "#         x2 = F.relu(self.L1(x1))\n",
    "        x3 = self.L(x1)\n",
    "#         x3 = self.L2(x2)\n",
    "        return x3\n",
    "\n",
    "def forward(Ls, data, full=False):\n",
    "    device = next(Ls[0].parameters()).device\n",
    "    dd = data.to(device)\n",
    "    \n",
    "    Ys = [dd]\n",
    "\n",
    "    for l,L in enumerate(Ls):\n",
    "\n",
    "        dd = L(dd)\n",
    "\n",
    "        Ys.append(dd)\n",
    "        \n",
    "    if (full):\n",
    "        return Ys\n",
    "    else:\n",
    "        return Ys[-1]\n",
    "\n",
    "def MeasureHardness(Ls, hidden, data_loader, test=None, epochs=10, lr=1e-3, verbose=False):\n",
    "    device = next(Ls[0].parameters()).device\n",
    "    \n",
    "    net = FCNet(Ls[-1].G*Ls[-1].L, hidden, 10).to(device)\n",
    "    opt = optim.Adam(net.parameters(), lr=lr)\n",
    "    loss = nn.CrossEntropyLoss()\n",
    "    \n",
    "    with silence(not verbose):\n",
    "        hardness = 0\n",
    "        for e in range(epochs):\n",
    "            Tloss = 0\n",
    "            Tacc = 0\n",
    "            for data, label in data_loader:\n",
    "                data = data.to(device)\n",
    "                label = label.to(device)\n",
    "\n",
    "                x = forward(Ls, data)\n",
    "\n",
    "                opt.zero_grad()\n",
    "                y = net(x)\n",
    "\n",
    "                bloss = loss(y, label)\n",
    "                Tloss += bloss.item()\n",
    "                bloss.backward()\n",
    "\n",
    "                opt.step()\n",
    "\n",
    "                acc = (y.argmax(-1) == label).float().mean().item()\n",
    "\n",
    "                Tacc += acc/len(data_loader)\n",
    "                \n",
    "            if (test is not None):\n",
    "                Tacc = 0\n",
    "                for (data, label) in test:\n",
    "                    \n",
    "                    data = data.to(device)\n",
    "                    label = label.to(device)\n",
    "                    \n",
    "                    x = forward(Ls, data)\n",
    "                    y = net(x)\n",
    "                    \n",
    "                    acc = (y.argmax(-1) == label).float().mean().item()\n",
    "\n",
    "                    Tacc += acc/len(test)\n",
    "            \n",
    "            hardness += Tacc/epochs\n",
    "\n",
    "            print (\"Epoch: {} Acc: {:.2f} Loss: {:.2f}\".format(e, 100*Tacc, Tloss))\n",
    "            \n",
    "    return hardness\n"
   ]
  },
  {
   "cell_type": "code",
   "execution_count": null,
   "metadata": {},
   "outputs": [
    {
     "name": "stdout",
     "output_type": "stream",
     "text": [
      "Layer 0: 0.913916648154457\n",
      "Layer 1: 0.9095333153208092\n",
      "Layer 2: 0.8215699795385183\n",
      "Layer 3: 0.679793316913148\n",
      "Layer 4: 0.2712399928892649\n",
      "Gathering Initial Statistics...\n",
      "Round: 1/1\n",
      "Epoch: 0\n",
      "Epoch: 1\n",
      "Epoch: 2\n",
      "Epoch: 3\n",
      "Epoch: 4\n",
      "Epoch: 5\n",
      "Epoch: 6\n",
      "Epoch: 7\n",
      "Epoch: 8\n",
      "Epoch: 9\n",
      "Epoch: 10\n",
      "Epoch: 11\n",
      "Epoch: 12\n",
      "Epoch: 13\n",
      "Epoch: 14\n",
      "Epoch: 15\n",
      "Epoch: 16\n",
      "Epoch: 17\n",
      "Epoch: 18\n",
      "Epoch: 19\n",
      "Epoch: 20\n",
      "Epoch: 21\n",
      "Epoch: 22\n",
      "Epoch: 23\n",
      "Epoch: 24\n",
      "Epoch: 25\n",
      "Epoch: 26\n",
      "Epoch: 27\n",
      "Epoch: 28\n",
      "Epoch: 29\n",
      "Epoch: 30\n",
      "Epoch: 31\n",
      "Epoch: 32\n",
      "Epoch: 33\n",
      "Epoch: 34\n",
      "Epoch: 35\n",
      "Epoch: 36\n",
      "Epoch: 37\n",
      "Epoch: 38\n",
      "Epoch: 39\n",
      "Epoch: 40\n",
      "Epoch: 41\n",
      "Epoch: 42\n",
      "Epoch: 43\n",
      "Epoch: 44\n",
      "Epoch: 45\n",
      "Epoch: 46\n",
      "Epoch: 47\n",
      "Epoch: 48\n",
      "Epoch: 49\n",
      "Epoch: 50\n",
      "Epoch: 51\n",
      "Epoch: 52\n",
      "Epoch: 53\n",
      "Epoch: 54\n",
      "Epoch: 55\n",
      "Epoch: 56\n",
      "Epoch: 57\n",
      "Epoch: 58\n",
      "Epoch: 59\n",
      "Epoch: 60\n",
      "Epoch: 61\n",
      "Epoch: 62\n",
      "Epoch: 63\n",
      "Epoch: 64\n",
      "Epoch: 65\n",
      "Epoch: 66\n",
      "Epoch: 67\n",
      "Epoch: 68\n",
      "Epoch: 69\n",
      "Epoch: 70\n",
      "Epoch: 71\n",
      "Epoch: 72\n",
      "Epoch: 73\n",
      "Epoch: 74\n",
      "Epoch: 75\n",
      "Epoch: 76\n",
      "Epoch: 77\n",
      "Epoch: 78\n",
      "Epoch: 79\n",
      "Epoch: 80\n",
      "Epoch: 81\n",
      "Epoch: 82\n",
      "Epoch: 83\n",
      "Epoch: 84\n",
      "Epoch: 85\n",
      "Epoch: 86\n",
      "Epoch: 87\n",
      "Epoch: 88\n",
      "Epoch: 89\n",
      "Epoch: 90\n",
      "Epoch: 91\n",
      "Epoch: 92\n",
      "Epoch: 93\n",
      "Epoch: 94\n",
      "Epoch: 95\n",
      "Epoch: 96\n",
      "Epoch: 97\n",
      "Epoch: 98\n",
      "Epoch: 99\n",
      "Epoch: 100\n",
      "Epoch: 101\n",
      "Epoch: 102\n",
      "Epoch: 103\n",
      "Epoch: 104\n",
      "Epoch: 105\n",
      "Epoch: 106\n",
      "Epoch: 107\n",
      "Epoch: 108\n",
      "Epoch: 109\n",
      "Epoch: 110\n",
      "Epoch: 111\n",
      "Epoch: 112\n",
      "Epoch: 113\n",
      "Epoch: 114\n",
      "Epoch: 115\n",
      "Epoch: 116\n",
      "Epoch: 117\n",
      "Epoch: 118\n",
      "Epoch: 119\n",
      "Epoch: 120\n",
      "Epoch: 121\n",
      "Epoch: 122\n",
      "Epoch: 123\n",
      "Epoch: 124\n",
      "Epoch: 125\n",
      "Epoch: 126\n",
      "Epoch: 127\n",
      "Epoch: 128\n",
      "Epoch: 129\n",
      "Epoch: 130\n",
      "Epoch: 131\n",
      "Epoch: 132\n",
      "Epoch: 133\n",
      "Epoch: 134\n",
      "Epoch: 135\n",
      "Epoch: 136\n",
      "Epoch: 137\n",
      "Epoch: 138\n",
      "Epoch: 139\n",
      "Epoch: 140\n",
      "Epoch: 141\n",
      "Epoch: 142\n",
      "Epoch: 143\n",
      "Epoch: 144\n",
      "Epoch: 145\n",
      "Epoch: 146\n",
      "Epoch: 147\n",
      "Epoch: 148\n",
      "Epoch: 149\n",
      "Epoch: 150\n",
      "Epoch: 151\n",
      "Epoch: 152\n",
      "Epoch: 153\n",
      "Epoch: 154\n",
      "Epoch: 155\n",
      "Epoch: 156\n",
      "Epoch: 157\n",
      "Epoch: 158\n",
      "Epoch: 159\n",
      "Epoch: 160\n",
      "Epoch: 161\n",
      "Epoch: 162\n",
      "Epoch: 163\n",
      "Epoch: 164\n",
      "Epoch: 165\n",
      "Epoch: 166\n",
      "Epoch: 167\n",
      "Epoch: 168\n",
      "Epoch: 169\n",
      "Epoch: 170\n",
      "Epoch: 171\n",
      "Epoch: 172\n",
      "Epoch: 173\n",
      "Epoch: 174\n",
      "Epoch: 175\n",
      "Epoch: 176\n",
      "Epoch: 177\n",
      "Epoch: 178\n",
      "Epoch: 179\n",
      "Epoch: 180\n",
      "Epoch: 181\n",
      "Epoch: 182\n",
      "Epoch: 183\n",
      "Epoch: 184\n",
      "Epoch: 185\n",
      "Epoch: 186\n",
      "Epoch: 187\n",
      "Epoch: 188\n",
      "Epoch: 189\n",
      "Epoch: 190\n",
      "Epoch: 191\n",
      "Epoch: 192\n",
      "Epoch: 193\n",
      "Epoch: 194\n",
      "Epoch: 195\n",
      "Epoch: 196\n",
      "Epoch: 197\n",
      "Epoch: 198\n",
      "Epoch: 199\n",
      "Epoch: 200\n",
      "Epoch: 201\n",
      "Epoch: 202\n",
      "Epoch: 203\n",
      "Epoch: 204\n",
      "Epoch: 205\n",
      "Epoch: 206\n",
      "Epoch: 207\n",
      "Epoch: 208\n",
      "Epoch: 209\n",
      "Epoch: 210\n",
      "Epoch: 211\n",
      "Epoch: 212\n",
      "Epoch: 213\n",
      "Epoch: 214\n",
      "Epoch: 215\n",
      "Epoch: 216\n",
      "Epoch: 217\n",
      "Epoch: 218\n",
      "Epoch: 219\n",
      "Epoch: 220\n",
      "Epoch: 221\n",
      "Epoch: 222\n",
      "Epoch: 223\n",
      "Epoch: 224\n",
      "Epoch: 225\n",
      "Epoch: 226\n",
      "Epoch: 227\n",
      "Epoch: 228\n",
      "Epoch: 229\n",
      "Epoch: 230\n",
      "Epoch: 231\n",
      "Epoch: 232\n",
      "Epoch: 233\n",
      "Epoch: 234\n",
      "Epoch: 235\n",
      "Epoch: 236\n",
      "Epoch: 237\n",
      "Epoch: 238\n",
      "Epoch: 239\n",
      "Epoch: 240\n",
      "Epoch: 241\n",
      "Epoch: 242\n",
      "Epoch: 243\n",
      "Epoch: 244\n",
      "Epoch: 245\n",
      "Epoch: 246\n",
      "Epoch: 247\n",
      "Epoch: 248\n",
      "Epoch: 249\n",
      "Epoch: 250\n",
      "Epoch: 251\n",
      "Epoch: 252\n",
      "Epoch: 253\n",
      "Epoch: 254\n",
      "Epoch: 255\n",
      "Epoch: 256\n",
      "Epoch: 257\n",
      "Epoch: 258\n",
      "Epoch: 259\n",
      "Epoch: 260\n",
      "Epoch: 261\n",
      "Epoch: 262\n",
      "Epoch: 263\n",
      "Epoch: 264\n",
      "Epoch: 265\n",
      "Epoch: 266\n",
      "Epoch: 267\n",
      "Epoch: 268\n",
      "Epoch: 269\n",
      "Epoch: 270\n",
      "Epoch: 271\n",
      "Epoch: 272\n",
      "Epoch: 273\n",
      "Epoch: 274\n",
      "Epoch: 275\n",
      "Epoch: 276\n",
      "Epoch: 277\n",
      "Epoch: 278\n",
      "Epoch: 279\n",
      "Epoch: 280\n",
      "Epoch: 281\n",
      "Epoch: 282\n",
      "Epoch: 283\n",
      "Epoch: 284\n",
      "Epoch: 285\n",
      "Epoch: 286\n",
      "Epoch: 287\n",
      "Epoch: 288\n",
      "Epoch: 289\n",
      "Epoch: 290\n",
      "Epoch: 291\n",
      "Epoch: 292\n",
      "Epoch: 293\n",
      "Epoch: 294\n",
      "Epoch: 295\n",
      "Epoch: 296\n",
      "Epoch: 297\n",
      "Epoch: 298\n",
      "Epoch: 299\n",
      "Epoch: 300\n",
      "Epoch: 301\n",
      "Epoch: 302\n",
      "Epoch: 303\n",
      "Epoch: 304\n",
      "Epoch: 305\n",
      "Epoch: 306\n",
      "Epoch: 307\n",
      "Epoch: 308\n",
      "Epoch: 309\n",
      "Epoch: 310\n",
      "Epoch: 311\n",
      "Epoch: 312\n",
      "Epoch: 313\n",
      "Epoch: 314\n",
      "Epoch: 315\n",
      "Epoch: 316\n",
      "Epoch: 317\n",
      "Epoch: 318\n",
      "Epoch: 319\n",
      "Epoch: 320\n",
      "Epoch: 321\n",
      "Epoch: 322\n",
      "Epoch: 323\n",
      "Epoch: 324\n",
      "Epoch: 325\n",
      "Epoch: 326\n",
      "Epoch: 327\n",
      "Epoch: 328\n",
      "Epoch: 329\n",
      "Epoch: 330\n",
      "Epoch: 331\n",
      "Epoch: 332\n",
      "Epoch: 333\n",
      "Epoch: 334\n",
      "Epoch: 335\n",
      "Epoch: 336\n",
      "Epoch: 337\n",
      "Epoch: 338\n",
      "Epoch: 339\n",
      "Epoch: 340\n",
      "Epoch: 341\n",
      "Epoch: 342\n",
      "Epoch: 343\n",
      "Epoch: 344\n",
      "Epoch: 345\n",
      "Epoch: 346\n",
      "Epoch: 347\n",
      "Epoch: 348\n",
      "Epoch: 349\n",
      "Epoch: 350\n",
      "Epoch: 351\n",
      "Epoch: 352\n",
      "Epoch: 353\n",
      "Epoch: 354\n",
      "Epoch: 355\n",
      "Epoch: 356\n",
      "Epoch: 357\n",
      "Epoch: 358\n",
      "Epoch: 359\n",
      "Epoch: 360\n",
      "Epoch: 361\n",
      "Epoch: 362\n",
      "Epoch: 363\n",
      "Epoch: 364\n",
      "Epoch: 365\n",
      "Epoch: 366\n",
      "Epoch: 367\n",
      "Epoch: 368\n",
      "Epoch: 369\n",
      "Epoch: 370\n",
      "Epoch: 371\n",
      "Epoch: 372\n",
      "Epoch: 373\n",
      "Epoch: 374\n",
      "Epoch: 375\n",
      "Epoch: 376\n",
      "Epoch: 377\n",
      "Epoch: 378\n",
      "Epoch: 379\n",
      "Epoch: 380\n",
      "Epoch: 381\n",
      "Epoch: 382\n",
      "Epoch: 383\n",
      "Epoch: 384\n",
      "Epoch: 385\n",
      "Epoch: 386\n",
      "Epoch: 387\n",
      "Epoch: 388\n",
      "Epoch: 389\n",
      "Epoch: 390\n",
      "Epoch: 391\n",
      "Epoch: 392\n",
      "Epoch: 393\n",
      "Epoch: 394\n",
      "Epoch: 395\n",
      "Epoch: 396\n",
      "Epoch: 397\n",
      "Epoch: 398\n",
      "Epoch: 399\n",
      "Epoch: 400\n",
      "Epoch: 401\n",
      "Epoch: 402\n",
      "Epoch: 403\n",
      "Epoch: 404\n",
      "Epoch: 405\n",
      "Epoch: 406\n",
      "Epoch: 407\n",
      "Epoch: 408\n",
      "Epoch: 409\n",
      "Epoch: 410\n",
      "Epoch: 411\n",
      "Epoch: 412\n",
      "Epoch: 413\n",
      "Epoch: 414\n",
      "Epoch: 415\n",
      "Epoch: 416\n",
      "Epoch: 417\n",
      "Epoch: 418\n",
      "Epoch: 419\n",
      "Epoch: 420\n",
      "Epoch: 421\n",
      "Epoch: 422\n",
      "Epoch: 423\n",
      "Epoch: 424\n",
      "Epoch: 425\n",
      "Epoch: 426\n",
      "Epoch: 427\n",
      "Epoch: 428\n",
      "Epoch: 429\n",
      "Epoch: 430\n",
      "Epoch: 431\n",
      "Epoch: 432\n",
      "Epoch: 433\n",
      "Epoch: 434\n",
      "Epoch: 435\n",
      "Epoch: 436\n",
      "Epoch: 437\n",
      "Epoch: 438\n",
      "Epoch: 439\n",
      "Epoch: 440\n",
      "Epoch: 441\n",
      "Epoch: 442\n",
      "Epoch: 443\n",
      "Epoch: 444\n",
      "Epoch: 445\n",
      "Epoch: 446\n",
      "Epoch: 447\n",
      "Epoch: 448\n",
      "Epoch: 449\n",
      "Epoch: 450\n",
      "Epoch: 451\n",
      "Epoch: 452\n",
      "Epoch: 453\n",
      "Epoch: 454\n",
      "Epoch: 455\n",
      "Epoch: 456\n",
      "Epoch: 457\n",
      "Epoch: 458\n",
      "Epoch: 459\n",
      "Epoch: 460\n",
      "Epoch: 461\n",
      "Epoch: 462\n",
      "Epoch: 463\n",
      "Epoch: 464\n",
      "Epoch: 465\n",
      "Epoch: 466\n",
      "Epoch: 467\n",
      "Epoch: 468\n",
      "Epoch: 469\n",
      "Epoch: 470\n",
      "Epoch: 471\n",
      "Epoch: 472\n",
      "Epoch: 473\n",
      "Epoch: 474\n",
      "Epoch: 475\n",
      "Epoch: 476\n",
      "Epoch: 477\n",
      "Epoch: 478\n",
      "Epoch: 479\n",
      "Epoch: 480\n",
      "Epoch: 481\n",
      "Epoch: 482\n",
      "Epoch: 483\n",
      "Epoch: 484\n",
      "Epoch: 485\n",
      "Epoch: 486\n",
      "Epoch: 487\n",
      "Epoch: 488\n",
      "Epoch: 489\n",
      "Epoch: 490\n",
      "Epoch: 491\n",
      "Epoch: 492\n",
      "Epoch: 493\n",
      "Epoch: 494\n",
      "Epoch: 495\n",
      "Epoch: 496\n",
      "Epoch: 497\n",
      "Epoch: 498\n",
      "Epoch: 499\n",
      "Epoch: 500\n",
      "Epoch: 501\n",
      "Epoch: 502\n",
      "Epoch: 503\n",
      "Epoch: 504\n",
      "Epoch: 505\n",
      "Epoch: 506\n",
      "Epoch: 507\n",
      "Epoch: 508\n",
      "Epoch: 509\n",
      "Epoch: 510\n",
      "Epoch: 511\n",
      "Epoch: 512\n",
      "Epoch: 513\n",
      "Epoch: 514\n",
      "Epoch: 515\n",
      "Epoch: 516\n",
      "Epoch: 517\n",
      "Epoch: 518\n",
      "Epoch: 519\n",
      "Epoch: 520\n",
      "Epoch: 521\n",
      "Epoch: 522\n",
      "Epoch: 523\n",
      "Epoch: 524\n",
      "Epoch: 525\n",
      "Epoch: 526\n",
      "Epoch: 527\n",
      "Epoch: 528\n",
      "Epoch: 529\n",
      "Epoch: 530\n",
      "Epoch: 531\n",
      "Epoch: 532\n",
      "Epoch: 533\n",
      "Epoch: 534\n",
      "Epoch: 535\n",
      "Epoch: 536\n",
      "Epoch: 537\n",
      "Epoch: 538\n",
      "Epoch: 539\n",
      "Epoch: 540\n",
      "Epoch: 541\n",
      "Epoch: 542\n",
      "Epoch: 543\n",
      "Epoch: 544\n",
      "Epoch: 545\n",
      "Epoch: 546\n",
      "Epoch: 547\n",
      "Epoch: 548\n",
      "Epoch: 549\n",
      "Epoch: 550\n",
      "Epoch: 551\n",
      "Epoch: 552\n",
      "Epoch: 553\n",
      "Epoch: 554\n",
      "Epoch: 555\n",
      "Epoch: 556\n",
      "Epoch: 557\n",
      "Epoch: 558\n",
      "Epoch: 559\n",
      "Epoch: 560\n",
      "Epoch: 561\n",
      "Epoch: 562\n",
      "Epoch: 563\n",
      "Epoch: 564\n",
      "Epoch: 565\n",
      "Epoch: 566\n",
      "Epoch: 567\n",
      "Epoch: 568\n",
      "Epoch: 569\n",
      "Epoch: 570\n",
      "Epoch: 571\n",
      "Epoch: 572\n",
      "Epoch: 573\n",
      "Epoch: 574\n",
      "Epoch: 575\n",
      "Epoch: 576\n",
      "Epoch: 577\n",
      "Epoch: 578\n",
      "Epoch: 579\n",
      "Epoch: 580\n",
      "Epoch: 581\n",
      "Epoch: 582\n",
      "Epoch: 583\n",
      "Epoch: 584\n",
      "Epoch: 585\n",
      "Epoch: 586\n",
      "Epoch: 587\n",
      "Epoch: 588\n",
      "Epoch: 589\n",
      "Epoch: 590\n",
      "Epoch: 591\n",
      "Epoch: 592\n",
      "Epoch: 593\n",
      "Epoch: 594\n",
      "Epoch: 595\n",
      "Epoch: 596\n",
      "Epoch: 597\n",
      "Epoch: 598\n",
      "Epoch: 599\n",
      "Epoch: 600\n",
      "Epoch: 601\n",
      "Epoch: 602\n",
      "Epoch: 603\n",
      "Epoch: 604\n",
      "Epoch: 605\n",
      "Epoch: 606\n",
      "Epoch: 607\n",
      "Epoch: 608\n",
      "Epoch: 609\n",
      "Epoch: 610\n"
     ]
    }
   ],
   "source": [
    "Ls = makeNet(device, Gs=[4,4,4,4,4])\n",
    "hardpre = []\n",
    "for i in range(len(Ls)):\n",
    "    hardpre.append(MeasureHardness(Ls[:i+1], 30, train_loader, epochs=5, lr=5e-3, verbose=False))\n",
    "    print (\"Layer {}: {}\".format(i, hardpre[-1]))\n",
    "    \n",
    "hard = train(Ls, train_loader, 1, 2100, layer_learn=False, hardness=False, verbose=True)\n",
    "\n",
    "hardpost = []\n",
    "for i in range(len(Ls)):\n",
    "    hardpost.append(MeasureHardness(Ls[:i+1], 30, train_loader, epochs=5, lr=5e-3))\n",
    "    print (\"Layer {}: {}\".format(i, hardpost[-1]))\n",
    "    \n",
    "print ()\n",
    "for i in range(5):\n",
    "    h1 = hardpre[i]\n",
    "    h2 = hardpost[i]\n",
    "    print (\"Layer {}: {:.4f} -> {:.4f}\".format(i,h1,h2))"
   ]
  },
  {
   "cell_type": "code",
   "execution_count": 80,
   "metadata": {},
   "outputs": [
    {
     "name": "stdout",
     "output_type": "stream",
     "text": [
      "Layer 0: 0.9139 -> 0.9136\n",
      "Layer 1: 0.9095 -> 0.9130\n",
      "Layer 2: 0.8216 -> 0.8320\n",
      "Layer 3: 0.6798 -> 0.7517\n",
      "Layer 4: 0.2712 -> 0.3671\n"
     ]
    }
   ],
   "source": [
    "\n",
    "for i in range(5):\n",
    "    h1 = hardpre[i]\n",
    "    h2 = hardpost[i]\n",
    "    print (\"Layer {}: {:.4f} -> {:.4f}\".format(i,h1,h2))\n",
    "          "
   ]
  },
  {
   "cell_type": "code",
   "execution_count": 71,
   "metadata": {},
   "outputs": [
    {
     "name": "stdout",
     "output_type": "stream",
     "text": [
      "Gathering Initial Statistics...\n",
      "Round: 1/1\n",
      "Epoch: 0\n",
      "Epoch: 1\n",
      "Epoch: 2\n",
      "Epoch: 3\n",
      "Epoch: 4\n",
      "Epoch: 5\n",
      "Epoch: 6\n",
      "Epoch: 7\n",
      "Epoch: 8\n",
      "Epoch: 9\n",
      "Round 0 runtime: 143.2074203491211\n",
      "\n"
     ]
    }
   ],
   "source": [
    "Ls = makeNet(device, Gs=[4,20,30,60,240])\n",
    "hard = train(Ls, train_loader, 1, 10, layer_learn=False, hardness=False, verbose=True)\n"
   ]
  },
  {
   "cell_type": "code",
   "execution_count": 94,
   "metadata": {},
   "outputs": [
    {
     "name": "stdout",
     "output_type": "stream",
     "text": [
      "=========== 1 =============\n",
      "------------------\n"
     ]
    },
    {
     "data": {
      "image/png": "[encoded data removed]",
      "text/plain": [
       "<Figure size 576x144 with 4 Axes>"
      ]
     },
     "metadata": {
      "needs_background": "light"
     },
     "output_type": "display_data"
    },
    {
     "name": "stdout",
     "output_type": "stream",
     "text": [
      "------------------\n"
     ]
    },
    {
     "data": {
      "image/png": "[encoded data removed]",
      "text/plain": [
       "<Figure size 576x144 with 4 Axes>"
      ]
     },
     "metadata": {
      "needs_background": "light"
     },
     "output_type": "display_data"
    },
    {
     "name": "stdout",
     "output_type": "stream",
     "text": [
      "------------------\n"
     ]
    },
    {
     "data": {
      "image/png": "[encoded data removed]",
      "text/plain": [
       "<Figure size 576x144 with 4 Axes>"
      ]
     },
     "metadata": {
      "needs_background": "light"
     },
     "output_type": "display_data"
    },
    {
     "name": "stdout",
     "output_type": "stream",
     "text": [
      "------------------\n"
     ]
    },
    {
     "data": {
      "image/png": "[encoded data removed]",
      "text/plain": [
       "<Figure size 576x144 with 4 Axes>"
      ]
     },
     "metadata": {
      "needs_background": "light"
     },
     "output_type": "display_data"
    },
    {
     "name": "stdout",
     "output_type": "stream",
     "text": [
      "------------------\n"
     ]
    },
    {
     "data": {
      "image/png": "[encoded data removed]",
      "text/plain": [
       "<Figure size 576x144 with 4 Axes>"
      ]
     },
     "metadata": {
      "needs_background": "light"
     },
     "output_type": "display_data"
    },
    {
     "name": "stdout",
     "output_type": "stream",
     "text": [
      "------------------\n"
     ]
    },
    {
     "data": {
      "image/png": "[encoded data removed]",
      "text/plain": [
       "<Figure size 576x144 with 4 Axes>"
      ]
     },
     "metadata": {
      "needs_background": "light"
     },
     "output_type": "display_data"
    },
    {
     "name": "stdout",
     "output_type": "stream",
     "text": [
      "=========== 2 =============\n",
      "------------------\n"
     ]
    },
    {
     "data": {
      "image/png": "[encoded data removed]",
      "text/plain": [
       "<Figure size 576x144 with 4 Axes>"
      ]
     },
     "metadata": {
      "needs_background": "light"
     },
     "output_type": "display_data"
    },
    {
     "name": "stdout",
     "output_type": "stream",
     "text": [
      "------------------\n"
     ]
    },
    {
     "data": {
      "image/png": "[encoded data removed]",
      "text/plain": [
       "<Figure size 576x144 with 4 Axes>"
      ]
     },
     "metadata": {
      "needs_background": "light"
     },
     "output_type": "display_data"
    },
    {
     "name": "stdout",
     "output_type": "stream",
     "text": [
      "------------------\n"
     ]
    },
    {
     "data": {
      "image/png": "[encoded data removed]",
      "text/plain": [
       "<Figure size 576x144 with 4 Axes>"
      ]
     },
     "metadata": {
      "needs_background": "light"
     },
     "output_type": "display_data"
    },
    {
     "name": "stdout",
     "output_type": "stream",
     "text": [
      "------------------\n"
     ]
    },
    {
     "data": {
      "image/png": "[encoded data removed]",
      "text/plain": [
       "<Figure size 576x144 with 4 Axes>"
      ]
     },
     "metadata": {
      "needs_background": "light"
     },
     "output_type": "display_data"
    },
    {
     "name": "stdout",
     "output_type": "stream",
     "text": [
      "------------------\n"
     ]
    },
    {
     "data": {
      "image/png": "[encoded data removed]",
      "text/plain": [
       "<Figure size 576x144 with 4 Axes>"
      ]
     },
     "metadata": {
      "needs_background": "light"
     },
     "output_type": "display_data"
    },
    {
     "name": "stdout",
     "output_type": "stream",
     "text": [
      "------------------\n"
     ]
    },
    {
     "data": {
      "image/png": "[encoded data removed]",
      "text/plain": [
       "<Figure size 576x144 with 4 Axes>"
      ]
     },
     "metadata": {
      "needs_background": "light"
     },
     "output_type": "display_data"
    },
    {
     "name": "stdout",
     "output_type": "stream",
     "text": [
      "=========== 3 =============\n",
      "------------------\n"
     ]
    },
    {
     "data": {
      "image/png": "[encoded data removed]",
      "text/plain": [
       "<Figure size 576x144 with 4 Axes>"
      ]
     },
     "metadata": {
      "needs_background": "light"
     },
     "output_type": "display_data"
    },
    {
     "name": "stdout",
     "output_type": "stream",
     "text": [
      "------------------\n"
     ]
    },
    {
     "data": {
      "image/png": "[encoded data removed]",
      "text/plain": [
       "<Figure size 576x144 with 4 Axes>"
      ]
     },
     "metadata": {
      "needs_background": "light"
     },
     "output_type": "display_data"
    },
    {
     "name": "stdout",
     "output_type": "stream",
     "text": [
      "------------------\n"
     ]
    },
    {
     "data": {
      "image/png": "[encoded data removed]",
      "text/plain": [
       "<Figure size 576x144 with 4 Axes>"
      ]
     },
     "metadata": {
      "needs_background": "light"
     },
     "output_type": "display_data"
    },
    {
     "name": "stdout",
     "output_type": "stream",
     "text": [
      "------------------\n"
     ]
    },
    {
     "data": {
      "image/png": "[encoded data removed]",
      "text/plain": [
       "<Figure size 576x144 with 4 Axes>"
      ]
     },
     "metadata": {
      "needs_background": "light"
     },
     "output_type": "display_data"
    },
    {
     "name": "stdout",
     "output_type": "stream",
     "text": [
      "------------------\n"
     ]
    },
    {
     "data": {
      "image/png": "[encoded data removed]",
      "text/plain": [
       "<Figure size 576x144 with 4 Axes>"
      ]
     },
     "metadata": {
      "needs_background": "light"
     },
     "output_type": "display_data"
    },
    {
     "name": "stdout",
     "output_type": "stream",
     "text": [
      "------------------\n"
     ]
    },
    {
     "data": {
      "image/png": "[encoded data removed]",
      "text/plain": [
       "<Figure size 576x144 with 4 Axes>"
      ]
     },
     "metadata": {
      "needs_background": "light"
     },
     "output_type": "display_data"
    },
    {
     "name": "stdout",
     "output_type": "stream",
     "text": [
      "=========== 4 =============\n",
      "------------------\n"
     ]
    },
    {
     "data": {
      "image/png": "[encoded data removed]",
      "text/plain": [
       "<Figure size 576x144 with 4 Axes>"
      ]
     },
     "metadata": {
      "needs_background": "light"
     },
     "output_type": "display_data"
    },
    {
     "name": "stdout",
     "output_type": "stream",
     "text": [
      "------------------\n"
     ]
    },
    {
     "data": {
      "image/png": "[encoded data removed]",
      "text/plain": [
       "<Figure size 576x144 with 4 Axes>"
      ]
     },
     "metadata": {
      "needs_background": "light"
     },
     "output_type": "display_data"
    },
    {
     "name": "stdout",
     "output_type": "stream",
     "text": [
      "------------------\n"
     ]
    },
    {
     "data": {
      "image/png": "[encoded data removed]",
      "text/plain": [
       "<Figure size 576x144 with 4 Axes>"
      ]
     },
     "metadata": {
      "needs_background": "light"
     },
     "output_type": "display_data"
    },
    {
     "name": "stdout",
     "output_type": "stream",
     "text": [
      "------------------\n"
     ]
    },
    {
     "data": {
      "image/png": "[encoded data removed]",
      "text/plain": [
       "<Figure size 576x144 with 4 Axes>"
      ]
     },
     "metadata": {
      "needs_background": "light"
     },
     "output_type": "display_data"
    },
    {
     "name": "stdout",
     "output_type": "stream",
     "text": [
      "------------------\n"
     ]
    },
    {
     "data": {
      "image/png": "[encoded data removed]",
      "text/plain": [
       "<Figure size 576x144 with 4 Axes>"
      ]
     },
     "metadata": {
      "needs_background": "light"
     },
     "output_type": "display_data"
    },
    {
     "name": "stdout",
     "output_type": "stream",
     "text": [
      "------------------\n"
     ]
    },
    {
     "data": {
      "image/png": "[encoded data removed]",
      "text/plain": [
       "<Figure size 576x144 with 4 Axes>"
      ]
     },
     "metadata": {
      "needs_background": "light"
     },
     "output_type": "display_data"
    },
    {
     "name": "stdout",
     "output_type": "stream",
     "text": [
      "=========== 5 =============\n",
      "------------------\n"
     ]
    },
    {
     "data": {
      "image/png": "[encoded data removed]",
      "text/plain": [
       "<Figure size 576x144 with 4 Axes>"
      ]
     },
     "metadata": {
      "needs_background": "light"
     },
     "output_type": "display_data"
    },
    {
     "name": "stdout",
     "output_type": "stream",
     "text": [
      "------------------\n"
     ]
    },
    {
     "data": {
      "image/png": "[encoded data removed]",
      "text/plain": [
       "<Figure size 576x144 with 4 Axes>"
      ]
     },
     "metadata": {
      "needs_background": "light"
     },
     "output_type": "display_data"
    },
    {
     "name": "stdout",
     "output_type": "stream",
     "text": [
      "------------------\n"
     ]
    },
    {
     "data": {
      "image/png": "[encoded data removed]",
      "text/plain": [
       "<Figure size 576x144 with 4 Axes>"
      ]
     },
     "metadata": {
      "needs_background": "light"
     },
     "output_type": "display_data"
    },
    {
     "name": "stdout",
     "output_type": "stream",
     "text": [
      "------------------\n"
     ]
    },
    {
     "data": {
      "image/png": "[encoded data removed]",
      "text/plain": [
       "<Figure size 576x144 with 4 Axes>"
      ]
     },
     "metadata": {
      "needs_background": "light"
     },
     "output_type": "display_data"
    },
    {
     "name": "stdout",
     "output_type": "stream",
     "text": [
      "------------------\n"
     ]
    },
    {
     "data": {
      "image/png": "[encoded data removed]",
      "text/plain": [
       "<Figure size 576x144 with 4 Axes>"
      ]
     },
     "metadata": {
      "needs_background": "light"
     },
     "output_type": "display_data"
    },
    {
     "name": "stdout",
     "output_type": "stream",
     "text": [
      "------------------\n"
     ]
    },
    {
     "data": {
      "image/png": "[encoded data removed]",
      "text/plain": [
       "<Figure size 576x144 with 4 Axes>"
      ]
     },
     "metadata": {
      "needs_background": "light"
     },
     "output_type": "display_data"
    },
    {
     "name": "stdout",
     "output_type": "stream",
     "text": [
      "=========== 6 =============\n",
      "------------------\n"
     ]
    },
    {
     "data": {
      "image/png": "[encoded data removed]",
      "text/plain": [
       "<Figure size 576x144 with 4 Axes>"
      ]
     },
     "metadata": {
      "needs_background": "light"
     },
     "output_type": "display_data"
    },
    {
     "name": "stdout",
     "output_type": "stream",
     "text": [
      "------------------\n"
     ]
    },
    {
     "data": {
      "image/png": "[encoded data removed]",
      "text/plain": [
       "<Figure size 576x144 with 4 Axes>"
      ]
     },
     "metadata": {
      "needs_background": "light"
     },
     "output_type": "display_data"
    },
    {
     "name": "stdout",
     "output_type": "stream",
     "text": [
      "------------------\n"
     ]
    },
    {
     "data": {
      "image/png": "[encoded data removed]",
      "text/plain": [
       "<Figure size 576x144 with 4 Axes>"
      ]
     },
     "metadata": {
      "needs_background": "light"
     },
     "output_type": "display_data"
    },
    {
     "name": "stdout",
     "output_type": "stream",
     "text": [
      "------------------\n"
     ]
    },
    {
     "data": {
      "image/png": "[encoded data removed]",
      "text/plain": [
       "<Figure size 576x144 with 4 Axes>"
      ]
     },
     "metadata": {
      "needs_background": "light"
     },
     "output_type": "display_data"
    },
    {
     "name": "stdout",
     "output_type": "stream",
     "text": [
      "------------------\n"
     ]
    },
    {
     "data": {
      "image/png": "[encoded data removed]",
      "text/plain": [
       "<Figure size 576x144 with 4 Axes>"
      ]
     },
     "metadata": {
      "needs_background": "light"
     },
     "output_type": "display_data"
    },
    {
     "name": "stdout",
     "output_type": "stream",
     "text": [
      "------------------\n"
     ]
    },
    {
     "data": {
      "image/png": "[encoded data removed]",
      "text/plain": [
       "<Figure size 576x144 with 4 Axes>"
      ]
     },
     "metadata": {
      "needs_background": "light"
     },
     "output_type": "display_data"
    }
   ],
   "source": [
    "count= 0\n",
    "\n",
    "for data, label in train_loader:\n",
    "    count += 1\n",
    "    print(\"=========== {} =============\".format(count))\n",
    "    data = data.to(device)\n",
    "    Ys = forward(Ls, data, full=True)\n",
    "    for y in Ys:\n",
    "        print(\"------------------\")\n",
    "#         print(y.shape)\n",
    "        fig, ax = plt.subplots(1,4, sharex=True, sharey=True, figsize=(8, 2))\n",
    "        vmin = y[0,:].min().item()\n",
    "        vmax = y[0,:].max().item()\n",
    "        for i in range(y.shape[1]):\n",
    "            py = i%4\n",
    "            ax[py].imshow(y[0,i].cpu().numpy(), cmap='gray', vmin=vmin, vmax=vmax)\n",
    "        plt.show()\n",
    "        \n",
    "    if (count > 5):\n",
    "        break\n",
    "            \n",
    "\n",
    "    "
   ]
  },
  {
   "cell_type": "code",
   "execution_count": 98,
   "metadata": {},
   "outputs": [
    {
     "name": "stdout",
     "output_type": "stream",
     "text": [
      "tensor([[-0.1743, -0.1930, -0.2472, -0.4166],\n",
      "        [-0.1359, -0.5030, -0.1903,  0.4387],\n",
      "        [-0.7121,  0.2233, -0.0172, -0.0954],\n",
      "        [-0.1284,  0.2466,  0.7593,  0.1997],\n",
      "        [-0.2987,  0.1987, -0.2920, -0.2841],\n",
      "        [ 0.2314,  0.6116, -0.2721, -0.0360],\n",
      "        [ 0.4172, -0.0780, -0.1591,  0.0045],\n",
      "        [-0.3212, -0.0056, -0.2570,  0.5415],\n",
      "        [-0.0878, -0.4237,  0.2743, -0.4580]], device='cuda:3')\n"
     ]
    },
    {
     "data": {
      "image/png": "[encoded data removed]",
      "text/plain": [
       "<Figure size 432x288 with 1 Axes>"
      ]
     },
     "metadata": {
      "needs_background": "light"
     },
     "output_type": "display_data"
    },
    {
     "data": {
      "image/png": "[encoded data removed]",
      "text/plain": [
       "<Figure size 432x288 with 1 Axes>"
      ]
     },
     "metadata": {
      "needs_background": "light"
     },
     "output_type": "display_data"
    },
    {
     "data": {
      "image/png": "[encoded data removed]",
      "text/plain": [
       "<Figure size 432x288 with 1 Axes>"
      ]
     },
     "metadata": {
      "needs_background": "light"
     },
     "output_type": "display_data"
    },
    {
     "data": {
      "image/png": "[encoded data removed]",
      "text/plain": [
       "<Figure size 432x288 with 1 Axes>"
      ]
     },
     "metadata": {
      "needs_background": "light"
     },
     "output_type": "display_data"
    }
   ],
   "source": [
    "\n",
    "\n",
    "L = Ls[0]\n",
    "T = L.params()\n",
    "print (T)\n",
    "T = T.transpose(0,1).contiguous().view(4,3,3)\n",
    "for i in range(4):\n",
    "    plt.imshow(T[i].cpu().numpy(), cmap='gray')\n",
    "    plt.show()\n"
   ]
  },
  {
   "cell_type": "code",
   "execution_count": null,
   "metadata": {},
   "outputs": [],
   "source": []
  },
  {
   "cell_type": "code",
   "execution_count": 102,
   "metadata": {},
   "outputs": [
    {
     "name": "stdout",
     "output_type": "stream",
     "text": [
      "Layer 0: 0.9069933147281409\n",
      "Layer 1: 0.9111166478587933\n",
      "Layer 2: 0.8788099802260594\n",
      "Layer 3: 0.7790533135533324\n",
      "Layer 4: 0.3886633235532792\n",
      "Gathering Initial Statistics...\n",
      "Round: 1/1\n",
      "Epoch: 0\n",
      "Epoch: 1\n",
      "Epoch: 2\n",
      "Epoch: 3\n",
      "Epoch: 4\n",
      "Epoch: 5\n",
      "Epoch: 6\n",
      "Epoch: 7\n",
      "Epoch: 8\n",
      "Epoch: 9\n",
      "Epoch: 10\n",
      "Epoch: 11\n",
      "Epoch: 12\n",
      "Epoch: 13\n",
      "Epoch: 14\n",
      "Epoch: 15\n",
      "Epoch: 16\n",
      "Epoch: 17\n",
      "Epoch: 18\n",
      "Epoch: 19\n",
      "Round 0 runtime: 251.46984195709229\n",
      "\n",
      "Layer 0: 0.9099033147481578\n",
      "Layer 1: 0.9117966488053397\n",
      "Layer 2: 0.8810033141722277\n",
      "Layer 3: 0.8293033126244922\n",
      "Layer 4: 0.3721199908380708\n",
      "\n",
      "Layer 0: 0.9070 -> 0.9099\n",
      "Layer 1: 0.9111 -> 0.9118\n",
      "Layer 2: 0.8788 -> 0.8810\n",
      "Layer 3: 0.7791 -> 0.8293\n",
      "Layer 4: 0.3887 -> 0.3721\n"
     ]
    }
   ],
   "source": [
    "Ls = makeNet(device, Gs=[4,4,4,4,4], eta=1e-4, gamma=0)\n",
    "hardpre = []\n",
    "for i in range(len(Ls)):\n",
    "    hardpre.append(MeasureHardness(Ls[:i+1], 30, train_loader, epochs=5, lr=5e-3, verbose=False))\n",
    "    print (\"Layer {}: {}\".format(i, hardpre[-1]))\n",
    "    \n",
    "hard = train(Ls, train_loader, 1, 20, layer_learn=False, hardness=False, verbose=True)\n",
    "\n",
    "hardpost = []\n",
    "for i in range(len(Ls)):\n",
    "    hardpost.append(MeasureHardness(Ls[:i+1], 30, train_loader, epochs=5, lr=5e-3))\n",
    "    print (\"Layer {}: {}\".format(i, hardpost[-1]))\n",
    "    \n",
    "print ()\n",
    "for i in range(5):\n",
    "    h1 = hardpre[i]\n",
    "    h2 = hardpost[i]\n",
    "    print (\"Layer {}: {:.4f} -> {:.4f}\".format(i,h1,h2))"
   ]
  },
  {
   "cell_type": "code",
   "execution_count": null,
   "metadata": {},
   "outputs": [],
   "source": []
  }
 ],
 "metadata": {
  "kernelspec": {
   "display_name": "TBJ",
   "language": "python",
   "name": "tbj"
  },
  "language_info": {
   "codemirror_mode": {
    "name": "ipython",
    "version": 3
   },
   "file_extension": ".py",
   "mimetype": "text/x-python",
   "name": "python",
   "nbconvert_exporter": "python",
   "pygments_lexer": "ipython3",
   "version": "3.6.9"
  }
 },
 "nbformat": 4,
 "nbformat_minor": 4
}
