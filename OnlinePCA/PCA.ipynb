{
 "cells": [
  {
   "cell_type": "markdown",
   "metadata": {},
   "source": [
    "# Online PCA (And other tricks)\n",
    "So this notebook was my exploration of the technique of performing a search over the space of othogonal matrices as described in:\n",
    "\n",
    "Brockett, R. W. (1991). Dynamical systems that sort lists, diagonalize matrices, and solve linear programming problems. Linear Algebra and its applications, 146, 79-91.\n",
    "\n",
    "This can be used to rotate in the feature space to produce an alignment of the maximum eigenvectors of a covariance matrix in an online manner. Hence the title. (You can also sort numbers with a continous dynamical system which is also cool)\n",
    "\n",
    "I created such an online PCA module in the COPCA.py file"
   ]
  },
  {
   "cell_type": "code",
   "execution_count": 88,
   "metadata": {},
   "outputs": [],
   "source": [
    "import numpy as np\n",
    "from numpy.random import *\n",
    "from numpy import matmul as mm\n",
    "import matplotlib.pyplot as plt\n",
    "import scipy as sp\n",
    "\n",
    "import torch\n",
    "from multimodal import *\n",
    "\n",
    "np.set_printoptions(suppress=True)\n"
   ]
  },
  {
   "cell_type": "code",
   "execution_count": 89,
   "metadata": {},
   "outputs": [],
   "source": [
    "def LieBracket(A,B):\n",
    "    return np.matmul(A,B)-np.matmul(B,A)\n",
    "\n",
    "def Grad(H,N):\n",
    "    return LieBracket(H, LieBracket(H,N))\n",
    "\n",
    "def ThetaGrad(T, Q, N):\n",
    "    return  -T@N@T.T@Q@T + Q@T@N\n",
    "\n",
    "def ThetaGrad2(T, Q, N):\n",
    "    C = N@T.T@Q@T\n",
    "    return -T@(C-C.T)\n",
    "\n",
    "def haar_measure(n):\n",
    "    z = (randn(n,n))/sqrt(2.0)\n",
    "    q,r = np.linalg.qr(z)\n",
    "    d = np.diagonal(r)\n",
    "    ph = d/np.abs(d)\n",
    "    q = np.multiply(q,ph)\n",
    "    return q\n",
    "\n",
    "def RandomSON(n):\n",
    "    M = randn(n,n)\n",
    "    Q,R = np.linalg.qr(M)\n",
    "#     Q = Q/np.sum(Q**2, 1, keepdims=True)\n",
    "    return Q\n",
    "    \n",
    "    "
   ]
  },
  {
   "cell_type": "code",
   "execution_count": 70,
   "metadata": {},
   "outputs": [
    {
     "name": "stdout",
     "output_type": "stream",
     "text": [
      "[[-0.14105648  0.21161876 -0.21273187  0.58507399 -0.74010415]\n",
      " [ 0.15864404 -0.22682987  0.09329774 -0.68719626 -0.66515947]\n",
      " [ 0.85677118 -0.39429768 -0.02452943  0.33139356 -0.00700707]\n",
      " [ 0.22381056  0.31846923 -0.87795177 -0.26272785  0.09306424]\n",
      " [-0.41326397 -0.80428379 -0.41789913  0.08125343  0.03314636]]\n",
      "[[ 1. -0.  0. -0.  0.]\n",
      " [-0.  1.  0. -0. -0.]\n",
      " [ 0.  0.  1.  0. -0.]\n",
      " [-0. -0.  0.  1. -0.]\n",
      " [ 0. -0. -0. -0.  1.]]\n",
      "0.9999999999999999\n",
      "[ 1.        +0.j          0.14229487+0.98982431j  0.14229487-0.98982431j\n",
      " -0.9532935 +0.30204554j -0.9532935 -0.30204554j]\n"
     ]
    }
   ],
   "source": [
    "M = RandomSON(5)\n",
    "print (M)\n",
    "print (np.matmul(M.T, M))\n",
    "print (np.linalg.det(M))\n",
    "E,V = np.linalg.eig(M)\n",
    "print (E)\n",
    "\n",
    "for i in range(10000):\n",
    "    M = RandomSON(5)\n",
    "    if (np.linalg.det(M) < 0):\n",
    "        print (\"WHOA\")\n",
    "# print (V)"
   ]
  },
  {
   "cell_type": "code",
   "execution_count": 140,
   "metadata": {},
   "outputs": [
    {
     "name": "stdout",
     "output_type": "stream",
     "text": [
      "[4.46781802 0.20138887 1.85625824 1.57317997 3.2494048  0.14919449\n",
      " 3.32915188 3.75860158 4.28247441 1.97237984]\n",
      "[0.14919449 0.20138887 1.57317997 1.85625824 1.97237984 3.2494048\n",
      " 3.32915188 3.75860158 4.28247441 4.46781802]\n"
     ]
    },
    {
     "data": {
      "image/png": "[encoded data removed]",
      "text/plain": [
       "<Figure size 432x288 with 1 Axes>"
      ]
     },
     "metadata": {
      "needs_background": "light"
     },
     "output_type": "display_data"
    },
    {
     "name": "stdout",
     "output_type": "stream",
     "text": [
      "[0.14919449 0.20138887 1.57317997 1.85625824 1.97237984 3.2494048\n",
      " 3.32915188 3.75860158 4.28247441 4.46781802]\n",
      "[0.13726351 0.75799291 1.31991368 1.59207103 3.18274276 2.02112666\n",
      " 3.31498449 3.95987699 4.10443055 4.44944951]\n"
     ]
    }
   ],
   "source": [
    "L = 5*np.random.rand(10)\n",
    "S = np.sort(L)\n",
    "\n",
    "print (L)\n",
    "print (S)\n",
    "\n",
    "# Initialize H and N\n",
    "N = np.diag(range(1,11))\n",
    "# H starts as the diagonal matrix of values you want sorted acted on by a\n",
    "# matrix theta which is SO(n)\n",
    "H = np.diag(L)\n",
    "Q = RandomSON(len(L))\n",
    "H = np.matmul(Q.T, np.matmul(H, Q))\n",
    "\n",
    "steps = 1000\n",
    "eta = 1e-3\n",
    "\n",
    "diag = np.zeros((steps, len(L)))\n",
    "\n",
    "for i in range(steps):\n",
    "    diag[i,:] = np.diag(H)\n",
    "    delH = Grad(H, N)\n",
    "    H += eta*delH\n",
    "    \n",
    "for i in range(len(L)):\n",
    "    plt.plot(diag[:,i], '-b')\n",
    "# plt.ylim(-10,10)\n",
    "plt.show()\n",
    "\n",
    "print (S)\n",
    "print (diag[-1,:])"
   ]
  },
  {
   "cell_type": "code",
   "execution_count": 139,
   "metadata": {},
   "outputs": [],
   "source": [
    "M = RandomSON(5)"
   ]
  },
  {
   "cell_type": "code",
   "execution_count": 73,
   "metadata": {},
   "outputs": [],
   "source": [
    "class Adam():\n",
    "    def __init__(self, param, betas=(0.9, 0.999), eps=1e-8):\n",
    "        \n",
    "        self.m = np.zeros_like(param)\n",
    "        self.v = np.zeros_like(param)\n",
    "        self.t = 0\n",
    "        \n",
    "        self.eps = eps\n",
    "        self.beta1 = betas[0]\n",
    "        self.beta2 = betas[1]\n",
    "        \n",
    "    def __call__(self, g):\n",
    "        self.m = self.beta1 * self.m + (1-self.beta1) * g\n",
    "        self.v = self.beta2 * self.v + (1-self.beta2) * g**2\n",
    "        self.t += 1\n",
    "        \n",
    "        m_hat = self.m/(1 - self.beta1**self.t)\n",
    "        v_hat = self.v/(1 - self.beta2**self.t)\n",
    "        \n",
    "        return m_hat / (np.sqrt(v_hat) + self.eps)"
   ]
  },
  {
   "cell_type": "code",
   "execution_count": 127,
   "metadata": {},
   "outputs": [
    {
     "name": "stdout",
     "output_type": "stream",
     "text": [
      "[[21.00085597  8.53132613  3.62553652  1.47553519 -2.24384595]\n",
      " [ 8.53132613 36.36994365  1.27939639 11.94387103  1.70751881]\n",
      " [ 3.62553652  1.27939639 29.85552922  0.47829621  4.93217528]\n",
      " [ 1.47553519 11.94387103  0.47829621 10.39637535  3.29309545]\n",
      " [-2.24384595  1.70751881  4.93217528  3.29309545 14.66702439]]\n",
      "\n",
      "[[-0.22220878  0.85528757  0.04710673 -0.38785256 -0.25779406]\n",
      " [-0.3096027  -0.47818976 -0.14993092 -0.79340027 -0.15335399]\n",
      " [-0.15794843 -0.00466177 -0.79790626  0.3103263  -0.4920099 ]\n",
      " [ 0.85273078 -0.0259305   0.02845381 -0.23238839 -0.46622295]\n",
      " [ 0.32042461  0.19779687 -0.58123803 -0.26415832  0.67125792]]\n",
      "\n",
      "[[1 0 0 0 0]\n",
      " [0 2 0 0 0]\n",
      " [0 0 3 0 0]\n",
      " [0 0 0 4 0]\n",
      " [0 0 0 0 5]]\n",
      "\n",
      "True\n",
      "\n",
      "[[ 0.05644579  0.49472235  0.79172961  0.07221918 -0.34821188]\n",
      " [-0.34625578 -0.25492135 -0.16874216 -0.2427222  -0.85356046]\n",
      " [ 0.04262058 -0.2870943   0.00471903  0.93670329 -0.19926027]\n",
      " [ 0.90111314  0.10154137 -0.26264016 -0.07734154 -0.32156055]\n",
      " [-0.25368892  0.77364047 -0.52663013  0.23164057 -0.09077282]]\n",
      "[[ 4.99915638  0.0012889  -0.          0.          0.        ]\n",
      " [ 0.0012889  11.29281682  0.0008583   0.         -0.        ]\n",
      " [-0.          0.0008583  20.23564451 -0.00018767  0.        ]\n",
      " [ 0.          0.         -0.00018767 31.02463171  0.00001539]\n",
      " [ 0.         -0.          0.          0.00001539 44.87684156]]\n",
      "\n",
      "[ 4.99915638 11.29281682 20.23564451 31.02463171 44.87684156]\n",
      "[44.824858   30.98804469 20.20228641 11.28167243  4.99286705]\n"
     ]
    }
   ],
   "source": [
    "D = 5\n",
    "\n",
    "Q = np.zeros((D,D))\n",
    "for i in range(20):\n",
    "    x = randn(1,D)\n",
    "    Q += x.T@x\n",
    "\n",
    "E,V = np.linalg.eig(Q)    \n",
    "\n",
    "print (Q)\n",
    "T = RandomSON(D)\n",
    "print ()\n",
    "print (T)\n",
    "N = np.diag(range(1,D+1))\n",
    "print ()\n",
    "print (N)\n",
    "\n",
    "delT = ThetaGrad(T,Q,N)\n",
    "delT2 = ThetaGrad2(T,Q,N)\n",
    "print ()\n",
    "print (np.allclose(delT, delT2))\n",
    "\n",
    "steps = 10000\n",
    "eta = 1e-4\n",
    "\n",
    "for i in range(steps):\n",
    "    delT = ThetaGrad2(T,Q,N)\n",
    "    T += eta*delT\n",
    "\n",
    "print ()\n",
    "print (T)\n",
    "\n",
    "L = T.T@Q@T\n",
    "\n",
    "print (L)\n",
    "print ()\n",
    "print (np.diag(L))\n",
    "print (E)\n",
    "\n",
    "\n",
    "\n"
   ]
  },
  {
   "cell_type": "code",
   "execution_count": 105,
   "metadata": {},
   "outputs": [
    {
     "data": {
      "image/png": "[encoded data removed]",
      "text/plain": [
       "<Figure size 432x288 with 1 Axes>"
      ]
     },
     "metadata": {
      "needs_background": "light"
     },
     "output_type": "display_data"
    },
    {
     "name": "stdout",
     "output_type": "stream",
     "text": [
      "[0.63839997 1.5489664  1.59376325 2.37010746 2.45670942 2.98931415\n",
      " 3.1784957  4.46897679 4.5358569  4.6788564 ]\n",
      "[0.62660862 1.57847046 1.55297423 2.3647134  2.44904884 3.07328478\n",
      " 3.09575519 4.51605631 4.53531969 4.66721493]\n"
     ]
    }
   ],
   "source": [
    "# Initialize H and N\n",
    "N = np.diag(range(1,11))\n",
    "# H starts as the diagonal matrix of values you want sorted acted on by a\n",
    "# matrix theta which is SO(n)\n",
    "H = np.diag(L)\n",
    "Q = RandomSON(len(L))\n",
    "H = np.matmul(Q.T, np.matmul(H, Q))\n",
    "\n",
    "steps = 10000\n",
    "eta = 1e-3\n",
    "\n",
    "diag = np.zeros((steps, len(L)))\n",
    "\n",
    "for i in range(steps):\n",
    "    diag[i,:] = np.diag(H)\n",
    "    delH = Grad(H, N)\n",
    "    H += eta*delH\n",
    "    \n",
    "for i in range(len(L)):\n",
    "    plt.plot(diag[:,i], '-b')\n",
    "# plt.ylim(-10,10)\n",
    "plt.show()\n",
    "\n",
    "print (S)\n",
    "print (diag[-1,:])"
   ]
  },
  {
   "cell_type": "code",
   "execution_count": 108,
   "metadata": {},
   "outputs": [
    {
     "data": {
      "image/png": "[encoded data removed]",
      "text/plain": [
       "<Figure size 432x288 with 1 Axes>"
      ]
     },
     "metadata": {
      "needs_background": "light"
     },
     "output_type": "display_data"
    },
    {
     "name": "stdout",
     "output_type": "stream",
     "text": [
      "[ 4.98885753 27.86935012 12.25388782 16.37148991 21.38817742]\n",
      "[ 4.6497666  12.24167159 16.29578437 21.39623991 28.28830034]\n"
     ]
    }
   ],
   "source": [
    "# Initialize H and N\n",
    "D = 5\n",
    "\n",
    "N = np.diag(range(1,D+1))\n",
    "# H starts as the diagonal matrix of values you want sorted acted on by a\n",
    "# matrix theta which is SO(n)\n",
    "H = np.zeros((5,5))\n",
    "for i in range(20):\n",
    "    x = randn(1,D)\n",
    "    H += x.T@x\n",
    "E,V = np.linalg.eig(H)\n",
    "\n",
    "steps = 10000\n",
    "eta = 1e-3\n",
    "\n",
    "diag = np.zeros((steps, D))\n",
    "\n",
    "for i in range(steps):\n",
    "    diag[i,:] = np.diag(H)\n",
    "    delH = Grad(H, N)\n",
    "    H += eta*delH\n",
    "    \n",
    "for i in range(D):\n",
    "    plt.plot(diag[:,i], '-b')\n",
    "# plt.ylim(-10,10)\n",
    "plt.show()\n",
    "\n",
    "print (E)\n",
    "print (diag[-1,:])"
   ]
  },
  {
   "cell_type": "code",
   "execution_count": 109,
   "metadata": {},
   "outputs": [
    {
     "name": "stdout",
     "output_type": "stream",
     "text": [
      "[[-0.63808637  0.42951985  0.17969005 -0.20200037  0.04751013]\n",
      " [ 0.42951985  0.44070475 -0.3030683  -0.54912934 -0.12484367]\n",
      " [ 0.17969005 -0.3030683   0.45087892  0.47644084  0.59940037]\n",
      " [-0.20200037 -0.54912934  0.47644084 -0.78258183 -0.18629244]\n",
      " [ 0.04751013 -0.12484367  0.59940037 -0.18629244 -0.72151   ]]\n"
     ]
    }
   ],
   "source": [
    "M = RandomSON(5)\n",
    "D = np.diag(randn(5))\n",
    "\n",
    "print (M.T@D@M)"
   ]
  },
  {
   "cell_type": "code",
   "execution_count": 147,
   "metadata": {},
   "outputs": [
    {
     "name": "stdout",
     "output_type": "stream",
     "text": [
      "[[ 0.35691225  0.00004163 -0.00007698]\n",
      " [ 0.00004163  0.72345265  0.00005438]\n",
      " [-0.00007698  0.00005438  1.7285864 ]]\n",
      "\n",
      "[0.35691225 0.72345265 1.7285864 ]\n",
      "[2.05823659 0.23835424 1.015295   0.55418231 0.65892683]\n"
     ]
    }
   ],
   "source": [
    "D = 5\n",
    "C = 3\n",
    "M = 20\n",
    "\n",
    "Q = np.zeros((D,D))\n",
    "X = []\n",
    "for i in range(M):\n",
    "    x = randn(1,D)\n",
    "    X.append(x)\n",
    "    Q += x.T@x/M\n",
    "\n",
    "E,V = np.linalg.eig(Q)    \n",
    "\n",
    "T = RandomSON(D)[:,:C]\n",
    "N = np.diag(range(1,C+1))\n",
    "\n",
    "steps = 1000000\n",
    "eta = 5e-5\n",
    "\n",
    "for i in range(steps):\n",
    "    xs = X[i%M]\n",
    "    delT = ThetaGrad2(T,xs,N)\n",
    "    T += eta*delT\n",
    "\n",
    "L = T.T@Q@T\n",
    "\n",
    "print (L)\n",
    "print ()\n",
    "print (np.diag(L))\n",
    "print (E)\n",
    "\n"
   ]
  },
  {
   "cell_type": "code",
   "execution_count": 157,
   "metadata": {},
   "outputs": [
    {
     "name": "stdout",
     "output_type": "stream",
     "text": [
      "[[-0.17720847  0.04653153 -0.71272901]\n",
      " [ 0.81397218 -0.53335286 -0.20442954]\n",
      " [ 0.05363835  0.10230408 -0.48402651]\n",
      " [ 0.34710074  0.29002758  0.42413615]\n",
      " [ 0.42742303  0.78663042 -0.18987571]]\n",
      "[[1 0 0]\n",
      " [0 2 0]\n",
      " [0 0 3]]\n",
      "[[-0.22802054  0.53550527 -0.03213989  1.88711985  2.27984014]]\n",
      "(5, 3) (1, 5) (3, 3)\n",
      "(1, 3)\n",
      "(3, 3)\n",
      "[[ 1.10815125 -0.12660882 -0.28378962]\n",
      " [ 2.66579684  3.67780637  1.01901089]\n",
      " [ 0.4489081   0.66123818  0.18950625]\n",
      " [-2.02397344  1.11315895  0.89517454]\n",
      " [-3.02994127  2.00470975  1.48465017]]\n",
      "tensor([[ 1.1082, -0.1266, -0.2838],\n",
      "        [ 2.6658,  3.6778,  1.0190],\n",
      "        [ 0.4489,  0.6612,  0.1895],\n",
      "        [-2.0240,  1.1132,  0.8952],\n",
      "        [-3.0299,  2.0047,  1.4847]])\n",
      "tensor([[ 18.7249,  15.3879,  -3.6510],\n",
      "        [ 10.7980,  12.9988,   9.0807],\n",
      "        [ 12.0145,  12.1774,   3.9052],\n",
      "        [-14.2970,  -6.7583,  16.3216],\n",
      "        [ -2.6976,   8.8113,  30.4314]])\n"
     ]
    }
   ],
   "source": [
    "def ThetaGrad2(T, x, N):\n",
    "    print (T.shape, x.shape, N.shape)\n",
    "    xt = x@T\n",
    "    print (xt.shape)\n",
    "    C = N@xt.T@xt\n",
    "    print (C.shape)\n",
    "    return -T@(C-C.T)\n",
    "\n",
    "inputs = 5\n",
    "outputs = 3\n",
    "\n",
    "T = RandomSON(inputs)[:,:outputs]\n",
    "N = np.diag(range(1,outputs+1))\n",
    "\n",
    "print (T)\n",
    "print (N)\n",
    "\n",
    "x = randn(1,5)\n",
    "print (x)\n",
    "\n",
    "print(ThetaGrad2(T,x,N))\n",
    "\n",
    "x = torch.Tensor(x)\n",
    "T = torch.Tensor(T)\n",
    "N = torch.Tensor(N)\n",
    "\n",
    "xt = torch.einsum('bi,ij->bj', [x, T])\n",
    "X = torch.einsum('bk,bl->bkl',[xt, xt]).mean(0)\n",
    "C = torch.einsum('ik,kl->il', [N,X])\n",
    "C2 = torch.einsum('ij,bk,bl->il',[N,xt,xt])\n",
    "Tgrad = -T@(C-C.transpose(0,1))\n",
    "Tgrad2 = -T@(C2-C2.transpose(0,1))\n",
    "\n",
    "print (Tgrad)\n",
    "print (Tgrad2)\n",
    "\n",
    "# def ThetaGrad2(T, Q, N):\n",
    "#     C = N@T.T@Q@T\n",
    "#     return -T@(C-C.T)"
   ]
  },
  {
   "cell_type": "code",
   "execution_count": 158,
   "metadata": {},
   "outputs": [],
   "source": [
    "import torch\n",
    "import torch.nn as nn\n",
    "import torch.nn.functional as F\n",
    "\n",
    "class OPCA(nn.Module):\n",
    "    def __init__(self, inputs, outputs, eta=1e-3, gamma=0):\n",
    "        \n",
    "        # OPCA\n",
    "        self.register_buffer('T', torch.tensor(RandomSON(inputs)[:,:outputs]))\n",
    "        self.register_buffer('N', torch.diag(torch.arange(outputs+1,0,-1)))\n",
    "        self.register_buffer('eta', torch.tensor(eta))\n",
    "        \n",
    "        # Centering\n",
    "        self.register_buffer('mu', torch.zeros(inputs))\n",
    "        self.register_buffer('gamma', torch.tensor(gamma))\n",
    "        \n",
    "    def forward(self, x):\n",
    "        \n",
    "        # Centering\n",
    "        x = x-self.mu\n",
    "        \n",
    "        # EMA\n",
    "        self.mu *= (1-self.gamma)\n",
    "        self.mu += self.gamma*(x.mean(0))\n",
    "        \n",
    "        # Batched OPCA\n",
    "        xt = torch.einsum('bi,ij->bj', [x, self.T])\n",
    "        X = torch.einsum('bk,bl->bkl',[xt, xt]).mean(0)\n",
    "        C = torch.einsum('ik,kl->il', [self.N, X])\n",
    "        Tgrad = -T@(C-C.transpose(0,1))\n",
    "        \n",
    "        self.T += self.eta*Tgrad\n",
    "        \n",
    "        return xt\n",
    "        \n",
    "        "
   ]
  },
  {
   "cell_type": "code",
   "execution_count": 142,
   "metadata": {},
   "outputs": [
    {
     "name": "stdout",
     "output_type": "stream",
     "text": [
      "tensor([5, 4, 3, 2, 1])\n"
     ]
    }
   ],
   "source": [
    "print (torch.arange(5,0,-1))"
   ]
  },
  {
   "cell_type": "code",
   "execution_count": null,
   "metadata": {},
   "outputs": [],
   "source": []
  }
 ],
 "metadata": {
  "kernelspec": {
   "display_name": "TBJ",
   "language": "python",
   "name": "tbj"
  },
  "language_info": {
   "codemirror_mode": {
    "name": "ipython",
    "version": 3
   },
   "file_extension": ".py",
   "mimetype": "text/x-python",
   "name": "python",
   "nbconvert_exporter": "python",
   "pygments_lexer": "ipython3",
   "version": "3.6.9"
  }
 },
 "nbformat": 4,
 "nbformat_minor": 4
}
