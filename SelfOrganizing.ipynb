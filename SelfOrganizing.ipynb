{
 "cells": [
  {
   "cell_type": "markdown",
   "metadata": {},
   "source": [
    "# Self Organizing\n",
    "\n",
    "Its getting late and I'm probably a little loopy at the minimum but I have been thinking about how the clusteringalgorithm could be made to be more natural. Currently the hard coding the structure is not super realistic. Yes we identify parts of the cortex but there isn't a lot to say that this is a strict grouping.\n",
    "\n",
    "I have been favouring this idea that the neocortex is just a large resource that is independent of any previous structure and the purpose gets assigned to it based on its own learning rules.\n",
    "\n",
    "So I want to eventually play around with having the inputs to the clustering columns being chosen by the columns based on some of their own parameters and experience.\n",
    "\n",
    "Namely I think that the explainability of the models should be used to determine if a connection should be made.\n",
    "\n",
    "I'm getting really sleepy now. I was reading [this](https://towardsdatascience.com/sparse-matrices-in-pytorch-part-2-gpus-fd9cc0725b71) which pointed me towards [this paper](https://ieeexplore.ieee.org/document/8689061). I was interested in this because it seems likely that sparse matrices could be used in order to extract the portion of space that a connection is interested in.\n",
    "\n",
    "Unfortunately, I don't think this will work how I was hoping.\n",
    "\n",
    "Anyways before I forget... the thought was, lets say you are a column, you can select a random set of connections (preferenced towards those that are close to you) and you can add and delete connections based on how much error you get on those connections. In order to avoid the degenerate case, any time a point was not fitting the pattern it would swap to another random location. This would produce a reduced space that the column attempts to cluster in but it also adjusts its inputs based on those inputs it can reliably predict.\n",
    "\n",
    "This could be tested at a small scale first. \n",
    "\n",
    "ok sleep"
   ]
  },
  {
   "cell_type": "code",
   "execution_count": null,
   "metadata": {},
   "outputs": [],
   "source": []
  }
 ],
 "metadata": {
  "kernelspec": {
   "display_name": "TBJ",
   "language": "python",
   "name": "tbj"
  },
  "language_info": {
   "codemirror_mode": {
    "name": "ipython",
    "version": 3
   },
   "file_extension": ".py",
   "mimetype": "text/x-python",
   "name": "python",
   "nbconvert_exporter": "python",
   "pygments_lexer": "ipython3",
   "version": "3.6.9"
  }
 },
 "nbformat": 4,
 "nbformat_minor": 4
}
